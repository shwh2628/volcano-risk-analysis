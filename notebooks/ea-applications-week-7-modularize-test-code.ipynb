{
 "cells": [
  {
   "cell_type": "markdown",
   "metadata": {
    "slideshow": {
     "slide_type": "slide"
    }
   },
   "source": [
    "## Earth Analytics Applications - Week 7 \n",
    "\n",
    "| Time         | Topic                                                   | \n",
    "|--------------|---------------------------------------------------------|\n",
    "| 12:45-1:30pm | Review of Functions and Modularization          | \n",
    "| 1:30-2:00pm  | Activity: Execute Function from Python Script (.py)      | \n",
    "| 2:00-2:30pm  | Activity: Expand Code to Add Checks/Tests  |\n",
    "| 2:30-3:30pm  | Time slots available for Project Check-in Meetings      | "
   ]
  },
  {
   "cell_type": "markdown",
   "metadata": {
    "slideshow": {
     "slide_type": "slide"
    }
   },
   "source": [
    "## Functions - What Are They Again?\n",
    "\n",
    "A unit of code that executes a specific, outlined task on command, using sets of input parameters to specify how the task is performed.\n",
    "\n",
    "### input parameter(s) –> function does something –> output result(s)"
   ]
  },
  {
   "cell_type": "markdown",
   "metadata": {
    "slideshow": {
     "slide_type": "fragment"
    }
   },
   "source": [
    "Useful for organizing and executing generalizable code that you need to run frequently:\n",
    "* importing data\n",
    "* aggregating or summarizing data\n",
    "* calculating indices such as normalized difference vegetation index, NDVI\n",
    "* plotting data\n",
    "\n",
    "You can use existing functions from commonly used packages (i.e. `geopandas.read_file()` or `rasterio.open()`) or <a href=\"https://www.earthdatascience.org/courses/earth-analytics-bootcamp/functions/intro-functions/\" target=\"_blank\">write your own functions</a> when one does not already exist."
   ]
  },
  {
   "cell_type": "markdown",
   "metadata": {
    "slideshow": {
     "slide_type": "slide"
    }
   },
   "source": [
    "## Key Components of Python Functions\n",
    "\n",
    "1. `def` keyword\n",
    "2. Function name\n",
    "3. Input parameters/arguments\n",
    "4. Docstring\n",
    "5. `return` statement"
   ]
  },
  {
   "cell_type": "code",
   "execution_count": 1,
   "metadata": {
    "slideshow": {
     "slide_type": "fragment"
    }
   },
   "outputs": [],
   "source": [
    "# Example of a simple function\n",
    "def add_five(x):\n",
    "    \"\"\"Adds the numeric value 5 to input value\n",
    "    \n",
    "    Parameters\n",
    "    ----------\n",
    "    x : numeric value (e.g. integer, float)\n",
    "            \n",
    "    Returns\n",
    "    ----------\n",
    "    input data with values increased by 5\n",
    "    \"\"\"\n",
    "    \n",
    "    return (x + 5)"
   ]
  },
  {
   "cell_type": "code",
   "execution_count": 2,
   "metadata": {
    "slideshow": {
     "slide_type": "fragment"
    }
   },
   "outputs": [
    {
     "data": {
      "text/plain": [
       "10"
      ]
     },
     "execution_count": 2,
     "metadata": {},
     "output_type": "execute_result"
    }
   ],
   "source": [
    "# How do we call a Python function again?\n",
    "add_five(5)"
   ]
  },
  {
   "cell_type": "markdown",
   "metadata": {
    "slideshow": {
     "slide_type": "slide"
    }
   },
   "source": [
    "Now, check out the more complex <a href=\"https://github.com/geopandas/geopandas/blob/master/geopandas/io/file.py\" target=\"_blank\">geopandas.read_file() function</a> on GitHub and identify each of the key components.\n",
    "\n",
    "**Do we have to fully understand all of the detailed code in order to use the function?**"
   ]
  },
  {
   "cell_type": "markdown",
   "metadata": {
    "slideshow": {
     "slide_type": "fragment"
    }
   },
   "source": [
    "Simply put - no. We only need to know the appropriate inputs and outputs, so we can provide the correct file to get back our GeoDataframe. \n",
    "\n",
    "This one of the primary benefits of writing and using functions!"
   ]
  },
  {
   "cell_type": "markdown",
   "metadata": {
    "slideshow": {
     "slide_type": "slide"
    }
   },
   "source": [
    "## Benefits of Using and Writing Functions\n",
    "\n",
    "1. Reusability (e.g. by yourself or others) \n",
    "2. Fewer variables (e.g. temporary variables not needed outside of the function are not stored)\n",
    "3. Documentation/Reproducibility (e.g. for yourself or others) \n",
    "4. Easier updates to code (i.e. update only the function definition)\n",
    "5. Testing (e.g. include checks and tests on inputs and outputs directly within function)\n",
    "6. Modularity (i.e. stand-alone units of code that can executed independently and asynchronously)"
   ]
  },
  {
   "cell_type": "markdown",
   "metadata": {
    "slideshow": {
     "slide_type": "fragment"
    }
   },
   "source": [
    "Sometimes you may need to write custom functions to:\n",
    "* complete tasks that do not already have published functions\n",
    "* combine existing functions into one function for a specific task "
   ]
  },
  {
   "cell_type": "markdown",
   "metadata": {
    "slideshow": {
     "slide_type": "slide"
    }
   },
   "source": [
    "## Generalizing Custom Functions\n",
    "\n",
    "The best functions complete one specific task but are generalizable for more than one application. \n",
    "\n",
    "Example: Goal is a function that can be used to calculate Normalized Difference Vegetation Index (NDVI)\n",
    "\n",
    "```python\n",
    "(Near_Infrared - Red) / (Near_Infrared + Red)\n",
    "```"
   ]
  },
  {
   "cell_type": "markdown",
   "metadata": {
    "slideshow": {
     "slide_type": "slide"
    }
   },
   "source": [
    "### How Can We Generalize This For Broader Use?\n",
    "\n",
    "We know that other indices can be calculated using the same formula:\n",
    "\n",
    "```python\n",
    "# Normalized Burn Ratio (NBR)\n",
    "(near_infrared - shortwave_infrared) / (near_infrared + shortwave_infrared)\n",
    "```\n",
    "\n",
    "```python\n",
    "# Normalized Difference Water Index (NDWI)\n",
    "(green - near_infrared) / (Green + near_infrared)\n",
    "```"
   ]
  },
  {
   "cell_type": "markdown",
   "metadata": {
    "slideshow": {
     "slide_type": "fragment"
    }
   },
   "source": [
    "For example: \n",
    "```python\n",
    "(band1 - band2) / (band1 + band2)\n",
    "```\n",
    "\n",
    "Even better for conciseness and readibility:\n",
    "```python\n",
    "(b1 - b2) / (b1 + b2)\n",
    "```"
   ]
  },
  {
   "cell_type": "code",
   "execution_count": 3,
   "metadata": {
    "slideshow": {
     "slide_type": "slide"
    }
   },
   "outputs": [],
   "source": [
    "def norm_diff(b1, b2):\n",
    "    \"\"\"Calculate the normalized difference of two arrays of same shape.\n",
    "    Math will be calculated (b1-b2) / (b1+b2). \n",
    "    \n",
    "    Parameters\n",
    "    ----------\n",
    "    b1, b2 : numpy arrays\n",
    "        Two numpy arrays of same shape.\n",
    "    \n",
    "    Returns\n",
    "    ----------\n",
    "    n_diff : numpy array\n",
    "        The element-wise result of (b1-b2) / (b1+b2) calculation. \n",
    "    \"\"\"\n",
    "    n_diff = (b1 - b2) / (b1 + b2)\n",
    "        \n",
    "    return n_diff"
   ]
  },
  {
   "cell_type": "markdown",
   "metadata": {
    "slideshow": {
     "slide_type": "slide"
    }
   },
   "source": [
    "## What About Python Modules and Packages?\n",
    "\n",
    "Modules are sets of code and functions that provide a suite of related functionality that can be imported into your code environment. \n",
    "\n",
    "In `Python`, modules can be imported from: \n",
    "* installed packages and libraries (e.g. `earthpy.spatial` where `spatial` is a module of `earthpy`)\n",
    "* custom `.py` scripts\n",
    "\n",
    "Users only need to import the module and call functions, rather than copy/paste the function definition into every notebook, script, etc, where it is needed. \n",
    "\n",
    "Note that the core modules of many Python packages/libraries provide a set of functions without the need to import additional modules (e.g. `import numpy`, `import geopandas`). "
   ]
  },
  {
   "cell_type": "code",
   "execution_count": 4,
   "metadata": {
    "slideshow": {
     "slide_type": "slide"
    }
   },
   "outputs": [],
   "source": [
    "import numpy as np"
   ]
  },
  {
   "cell_type": "code",
   "execution_count": 5,
   "metadata": {
    "slideshow": {
     "slide_type": "fragment"
    }
   },
   "outputs": [],
   "source": [
    "# Use the `.array` function to create two example arrays\n",
    "nir_band = np.array([[6, 7, 8, 9, 10], [16, 17, 18, 19, 20]])\n",
    "red_band = np.array([[1, 2, 3, 4, 5], [11, 12, 13, 14, 15]])"
   ]
  },
  {
   "cell_type": "markdown",
   "metadata": {
    "slideshow": {
     "slide_type": "slide"
    }
   },
   "source": [
    "Note that we did not have to name a specific module from `numpy` in order to access the `.array` function. \n",
    "\n",
    "What if you wanted to work with masked arrays? Now, you can import the <a href=\"https://docs.scipy.org/doc/numpy/reference/maskedarray.generic.html\" target=\"_blank\">ma module</a> from `numpy` using the syntax:\n",
    "\n",
    "`import package_name.module_name`"
   ]
  },
  {
   "cell_type": "code",
   "execution_count": 6,
   "metadata": {
    "slideshow": {
     "slide_type": "fragment"
    }
   },
   "outputs": [],
   "source": [
    "# Compare this import statement to previous one for numpy\n",
    "import numpy.ma as ma"
   ]
  },
  {
   "cell_type": "code",
   "execution_count": 7,
   "metadata": {
    "slideshow": {
     "slide_type": "fragment"
    }
   },
   "outputs": [
    {
     "name": "stdout",
     "output_type": "stream",
     "text": [
      "[[-- -- -- 9 10]\n",
      " [16 17 18 19 20]]\n"
     ]
    }
   ],
   "source": [
    "# Now we can call functions from ma\n",
    "nir_band_masked = ma.masked_where(nir_band <= 8, nir_band)\n",
    "print(nir_band_masked)"
   ]
  },
  {
   "cell_type": "markdown",
   "metadata": {
    "slideshow": {
     "slide_type": "slide"
    }
   },
   "source": [
    "### Call norm_diff Function\n",
    "\n",
    "We can call the `norm_diff()` function directly in this notebook because we have defined it in a previously executed cell. "
   ]
  },
  {
   "cell_type": "code",
   "execution_count": 10,
   "metadata": {
    "slideshow": {
     "slide_type": "fragment"
    }
   },
   "outputs": [
    {
     "name": "stdout",
     "output_type": "stream",
     "text": [
      "[[ 0.71428571  0.55555556  0.45454545  0.38461538  0.33333333]\n",
      " [ 0.18518519  0.17241379  0.16129032  0.15151515  0.14285714]]\n"
     ]
    }
   ],
   "source": [
    "# Create a variable ndvi by calling the norm_diff\n",
    "# with nir_band and red_band arrays previously created\n",
    "ndvi=norm_diff(nir_band, red_band)\n",
    "print (ndvi)"
   ]
  },
  {
   "cell_type": "markdown",
   "metadata": {
    "slideshow": {
     "slide_type": "fragment"
    }
   },
   "source": [
    "What if you know that you will be using this function a lot, especially now that it is written in a generalized manner? \n",
    "\n",
    "It would be repetitive to simply copy and paste this function definition into every notebook in which we want to use it.\n",
    "\n",
    "How can we create a module from which we can import and call the `norm_diff` function?"
   ]
  },
  {
   "cell_type": "markdown",
   "metadata": {
    "slideshow": {
     "slide_type": "slide"
    }
   },
   "source": [
    "## Modularize Code With Scripts\n",
    "\n",
    "Recall that in `Python`, custom modules are created as `.py` scripts. Thus, we can create our own modules by saving functions into Python scripts (`.py`) and importing them into our notebooks. \n",
    "\n",
    "These `.py` scripts can contain many functions that have been grouped together in the same file based on shared characteristics (e.g. all functions that calculate an index stored in `calc_indices.py`). "
   ]
  },
  {
   "cell_type": "markdown",
   "metadata": {
    "slideshow": {
     "slide_type": "slide"
    }
   },
   "source": [
    "### Differences Between Python Scripts and Jupyter Notebooks\n",
    "\n",
    "\n",
    "| Characteristic | Python Scripts        | Jupyter Notebooks                                                   | \n",
    "|--------------|--------------|---------------------------------------------------------|\n",
    "|File extension | .py | .ipynb         | \n",
    "|Created in | Text or Code Editor (e.g. Atom, Sublime, PyCharm) | Jupyter Notebook        | \n",
    "|Executed in | Terminal, Jupyter Notebook, other interactive development environments (IDEs) | Jupyter Notebook          | \n",
    "|Usage | To automate a task (terminal); to provide functions and classes (as an imported module) | To run code interactively; to organize and visualize reproducible results  | \n",
    "|Contains | Functions (e.g. processing, analysis) | Calls to functions, results, visualizations | \n",
    "|Best for... | Code that users do not need to interact with (e.g. branch workflows; building blocks that complete specific tasks and/or provide intermediary products/variables)  | Code that you want users to interact with functions and visualize results (e.g. primary workflow; the story/progression of your workflow) | "
   ]
  },
  {
   "cell_type": "markdown",
   "metadata": {
    "slideshow": {
     "slide_type": "slide"
    }
   },
   "source": [
    "## Activity: Execute Function from Python Script (.py)\n",
    "\n",
    "### Create the Python Script (.py)\n",
    "\n",
    "#### 1. Open a text editor (e.g. Atom, Sublime, PyCharm; Jupyter Notebook  even has a built-in text editor!)\n",
    "* You can access the Jupyter Notebook built-in text editor by selecting `New` > `Text File` in the menu for the Jupyter Dashboard.\n",
    "\n",
    "#### 2. Create a new file in the same working directory as this notebook.\n",
    "* This is for ease of import. If the scripts are in other directories, there is <a href=\"https://stackoverflow.com/questions/34478398/import-local-function-from-a-module-housed-in-another-directory-with-relative-im\" target=\"_blank\">additional code needed </a> to provide Jupyter Notebook with the correct path. \n",
    "\n",
    "#### 3. Copy and paste your function definition for norm_diff() into this new file. \n",
    "* It is common to add a docstring to the top of the .py to explain the purpose of the file\n",
    "* e.g. `\"\"\"A module for calculating normalized indices on arrays\"\"\"`\n",
    "\n",
    "#### 4.  Save the new file with a clear, concise name and a `.py` file extension (e.g. `calc_indices.py`).\n",
    "* Note: module names cannot have spaces or dashes, so use only underscores in the names."
   ]
  },
  {
   "cell_type": "code",
   "execution_count": null,
   "metadata": {},
   "outputs": [],
   "source": []
  },
  {
   "cell_type": "markdown",
   "metadata": {
    "slideshow": {
     "slide_type": "slide"
    }
   },
   "source": [
    "### Import .py as Module in Jupyter Notebook\n",
    "\n",
    "Now that you have a `.py` script (e.g. `calc_indices.py`) in the same working directory as this notebook, you can import this script as a module using the following syntax:\n",
    "\n",
    "```python\n",
    "import module_name\n",
    "```\n",
    "where the module_name is the name of the file without the extension type (e.g. `calc_indices`)."
   ]
  },
  {
   "cell_type": "code",
   "execution_count": 11,
   "metadata": {
    "slideshow": {
     "slide_type": "fragment"
    }
   },
   "outputs": [
    {
     "data": {
      "text/plain": [
       "'/Users/shannonwhite/git/volcano-risk-analysis/notebooks'"
      ]
     },
     "execution_count": 11,
     "metadata": {},
     "output_type": "execute_result"
    }
   ],
   "source": [
    "# Add new import for your .py script\n",
    "# Your .py script should be in the same directory as this notebook\n",
    "import os\n",
    "import numpy as np\n",
    "import calcsample\n",
    "\n",
    "os.getcwd()"
   ]
  },
  {
   "cell_type": "code",
   "execution_count": 12,
   "metadata": {
    "slideshow": {
     "slide_type": "slide"
    }
   },
   "outputs": [
    {
     "name": "stdout",
     "output_type": "stream",
     "text": [
      "Help on module calcsample:\n",
      "\n",
      "NAME\n",
      "    calcsample - Calculates differences for several different vegetatioin indecies\n",
      "\n",
      "FUNCTIONS\n",
      "    norm_diff(b1, b2)\n",
      "        Calculate the normalized difference of two arrays of same shape.\n",
      "        Math will be calculated (b1-b2) / (b1+b2). \n",
      "        \n",
      "        Parameters\n",
      "        ----------\n",
      "        b1, b2 : numpy arrays\n",
      "            Two numpy arrays of same shape.\n",
      "        \n",
      "        Returns\n",
      "        ----------\n",
      "        n_diff : numpy array\n",
      "            The element-wise result of (b1-b2) / (b1+b2) calculation.\n",
      "\n",
      "FILE\n",
      "    /Users/shannonwhite/git/volcano-risk-analysis/notebooks/calcsample.py\n",
      "\n",
      "\n"
     ]
    }
   ],
   "source": [
    "# Call help on an imported module using the module name\n",
    "help (calcsample)"
   ]
  },
  {
   "cell_type": "code",
   "execution_count": 13,
   "metadata": {
    "slideshow": {
     "slide_type": "slide"
    }
   },
   "outputs": [
    {
     "name": "stdout",
     "output_type": "stream",
     "text": [
      "Help on function norm_diff in module calcsample:\n",
      "\n",
      "norm_diff(b1, b2)\n",
      "    Calculate the normalized difference of two arrays of same shape.\n",
      "    Math will be calculated (b1-b2) / (b1+b2). \n",
      "    \n",
      "    Parameters\n",
      "    ----------\n",
      "    b1, b2 : numpy arrays\n",
      "        Two numpy arrays of same shape.\n",
      "    \n",
      "    Returns\n",
      "    ----------\n",
      "    n_diff : numpy array\n",
      "        The element-wise result of (b1-b2) / (b1+b2) calculation.\n",
      "\n"
     ]
    }
   ],
   "source": [
    "# Call help on function using `module_name.function_name`\n",
    "help (calcsample.norm_diff)"
   ]
  },
  {
   "cell_type": "code",
   "execution_count": 14,
   "metadata": {
    "slideshow": {
     "slide_type": "slide"
    }
   },
   "outputs": [],
   "source": [
    "# Create numpy array inputs for function\n",
    "nir_band = np.array([[6, 7, 8, 9, 10], [16, 17, 18, 19, 20]])\n",
    "red_band = np.array([[1, 2, 3, 4, 5], [11, 12, 13, 14, 15]])"
   ]
  },
  {
   "cell_type": "code",
   "execution_count": 15,
   "metadata": {
    "slideshow": {
     "slide_type": "fragment"
    }
   },
   "outputs": [
    {
     "name": "stdout",
     "output_type": "stream",
     "text": [
      "[[ 0.71428571  0.55555556  0.45454545  0.38461538  0.33333333]\n",
      " [ 0.18518519  0.17241379  0.16129032  0.15151515  0.14285714]]\n"
     ]
    }
   ],
   "source": [
    "# Call function from .py script using `module_name.function_name`\n",
    "ndvi = calcsample.norm_diff(b1=nir_band, b2=red_band)\n",
    "print(ndvi)"
   ]
  },
  {
   "cell_type": "markdown",
   "metadata": {
    "slideshow": {
     "slide_type": "slide"
    }
   },
   "source": [
    "Note that we used the syntax: `module_name.function_name` to call the function from the module.\n",
    "\n",
    "**How is the following code different, and what is it doing?**"
   ]
  },
  {
   "cell_type": "code",
   "execution_count": 16,
   "metadata": {
    "slideshow": {
     "slide_type": "fragment"
    }
   },
   "outputs": [
    {
     "name": "stdout",
     "output_type": "stream",
     "text": [
      "[[ 0.71428571  0.55555556  0.45454545  0.38461538  0.33333333]\n",
      " [ 0.18518519  0.17241379  0.16129032  0.15151515  0.14285714]]\n"
     ]
    }
   ],
   "source": [
    "ndvi = norm_diff(b1=nir_band, b2=red_band)\n",
    "print(ndvi)"
   ]
  },
  {
   "cell_type": "markdown",
   "metadata": {
    "slideshow": {
     "slide_type": "slide"
    }
   },
   "source": [
    "Delete cell 3 where you defined the function in this notebook. Then, select `Kernel` > `Restart & Run All`.\n",
    "\n",
    "**Does this code below still work?**"
   ]
  },
  {
   "cell_type": "code",
   "execution_count": 17,
   "metadata": {
    "slideshow": {
     "slide_type": "fragment"
    }
   },
   "outputs": [
    {
     "name": "stdout",
     "output_type": "stream",
     "text": [
      "[[ 0.71428571  0.55555556  0.45454545  0.38461538  0.33333333]\n",
      " [ 0.18518519  0.17241379  0.16129032  0.15151515  0.14285714]]\n"
     ]
    }
   ],
   "source": [
    "ndvi = norm_diff(b1=nir_band, b2=red_band)\n",
    "print(ndvi)"
   ]
  },
  {
   "cell_type": "markdown",
   "metadata": {
    "slideshow": {
     "slide_type": "slide"
    }
   },
   "source": [
    "## Activity: Expand Code to Add Checks and Tests\n",
    "\n",
    "### Why Check Your Code? \n",
    "\n",
    "* Check that inputs are of correct type/format (e.g. both arrays are two-dimensional)\n",
    "* Check that necessary preqrequisites have been executed or exist (e.g. an directory named output)\n",
    "* Test assumptions of code (e.g. is it actually doing what you think it is?)\n",
    "* Identify points of failure (e.g. where is the code failing - input data, processing/analysis, writing out data?)\n",
    "* Identify something about the function that you did not consider (e.g. function is applicable to additional data types, function needs additional code to handle special circumstances)"
   ]
  },
  {
   "cell_type": "markdown",
   "metadata": {
    "slideshow": {
     "slide_type": "slide"
    }
   },
   "source": [
    "## How Can You Check Your Code?\n",
    "\n",
    "### Conditional Statements\n",
    "\n",
    "This is frequently referred to as \"asking permission\" before code can execute. \n",
    "\n",
    "```python\n",
    "if condition_1:\n",
    "    action_1\n",
    "elif condition_2:\n",
    "    action_2\n",
    "else: \n",
    "    action_3\n",
    "```\n",
    "\n",
    "Thinking about the `norm_diff` function: what is a condition that we might want to check for the code to run successfully? \n",
    "\n",
    "Take a look at the equation again, and think about what the intended inputs are for b1 and b2 (\"arrays of same shape\"). \n",
    "\n",
    "```python\n",
    "(b1 - b2) / (b1 + b2)\n",
    "```"
   ]
  },
  {
   "cell_type": "code",
   "execution_count": 18,
   "metadata": {
    "slideshow": {
     "slide_type": "slide"
    }
   },
   "outputs": [
    {
     "data": {
      "text/plain": [
       "3"
      ]
     },
     "execution_count": 18,
     "metadata": {},
     "output_type": "execute_result"
    }
   ],
   "source": [
    "# Create three dimensional numpy array for testing\n",
    "nir_band_3d = np.array([[[6, 7, 8, 9, 10], [16, 17, 18, 19, 20]]])\n",
    "nir_band_3d.ndim"
   ]
  },
  {
   "cell_type": "code",
   "execution_count": 19,
   "metadata": {
    "slideshow": {
     "slide_type": "fragment"
    }
   },
   "outputs": [
    {
     "name": "stdout",
     "output_type": "stream",
     "text": [
      "Input arrays are not of same shape\n"
     ]
    }
   ],
   "source": [
    "# Note that the if/else is used when calling the function\n",
    "if nir_band_3d.shape == red_band.shape:\n",
    "    ndvi = calc_indices.norm_diff(b1=nir_band_3d, b2=red_band)\n",
    "    print(ndvi)\n",
    "else:\n",
    "    print(\"Input arrays are not of same shape\")"
   ]
  },
  {
   "cell_type": "markdown",
   "metadata": {
    "slideshow": {
     "slide_type": "slide"
    }
   },
   "source": [
    "### `Try` and `except`\n",
    "\n",
    "These statements allow the a code block to try to execute first, and then do something else if the code is not executed successfully. This is known as <a href=\"https://www.w3schools.com/python/python_try_except.asp\" target=\"_blank\">asking for forgiveness, rather than permission</a>.\n",
    "\n",
    "```python\n",
    "try:\n",
    "    action_1\n",
    "except: \n",
    "    print(\"something went wrong; action_1 not executed\")\n",
    "```"
   ]
  },
  {
   "cell_type": "code",
   "execution_count": 20,
   "metadata": {
    "slideshow": {
     "slide_type": "slide"
    }
   },
   "outputs": [
    {
     "name": "stdout",
     "output_type": "stream",
     "text": [
      "Division by zero not allowed!\n"
     ]
    }
   ],
   "source": [
    "# Example of asking for permission\n",
    "x = 5\n",
    "y = 0\n",
    "\n",
    "if y != 0:\n",
    "    print(x/y)\n",
    "else:\n",
    "    print(\"Division by zero not allowed!\")"
   ]
  },
  {
   "cell_type": "code",
   "execution_count": 21,
   "metadata": {
    "slideshow": {
     "slide_type": "fragment"
    }
   },
   "outputs": [
    {
     "name": "stdout",
     "output_type": "stream",
     "text": [
      "Division by zero not allowed!\n"
     ]
    }
   ],
   "source": [
    "# Instead, ask for forgiveness\n",
    "try:\n",
    "    print(x/y)\n",
    "except:\n",
    "    print(\"Division by zero not allowed!\")"
   ]
  },
  {
   "cell_type": "code",
   "execution_count": 22,
   "metadata": {
    "slideshow": {
     "slide_type": "slide"
    }
   },
   "outputs": [
    {
     "name": "stdout",
     "output_type": "stream",
     "text": [
      "Input arrays are not of same shape\n",
      "2\n"
     ]
    }
   ],
   "source": [
    "# In this example, try/except is used when calling the function\n",
    "try:\n",
    "    ndvi = calc_indices.norm_diff(b1=nir_band_3d, b2=red_band)\n",
    "    print(ndvi)\n",
    "except:\n",
    "    print(\"Input arrays are not of same shape\")\n",
    "    \n",
    "print(ndvi.ndim)"
   ]
  },
  {
   "cell_type": "markdown",
   "metadata": {
    "slideshow": {
     "slide_type": "fragment"
    }
   },
   "source": [
    "**Caveat: Do you see anything wrong with `try` and `except` statements?**"
   ]
  },
  {
   "cell_type": "code",
   "execution_count": 23,
   "metadata": {
    "slideshow": {
     "slide_type": "slide"
    }
   },
   "outputs": [
    {
     "name": "stdout",
     "output_type": "stream",
     "text": [
      "/Users/shannonwhite/git/volcano-risk-analysis/notebooks\n"
     ]
    }
   ],
   "source": [
    "# Another example of try and except\n",
    "print(os.getcwd())\n",
    "directory = \"test\"\n",
    "\n",
    "# Create folder if it does not exist in working directory\n",
    "try:\n",
    "    os.makedirs(directory)\n",
    "except:\n",
    "    print(\"Directory already exists!\")"
   ]
  },
  {
   "cell_type": "markdown",
   "metadata": {
    "slideshow": {
     "slide_type": "fragment"
    }
   },
   "source": [
    "**Caveat: How do you know that the failure to make a new directory was due to it already existing?**"
   ]
  },
  {
   "cell_type": "markdown",
   "metadata": {
    "slideshow": {
     "slide_type": "slide"
    }
   },
   "source": [
    "### Exception Handling\n",
    "\n",
    "Also commonly referred to as error handling, exceptions are used to check for specific types of errors that can occur when running code. \n",
    "\n",
    "Though it is more common to use exception handling when writing code that you want to publish as packages or libraries or when you are writing applications for end users, it is useful to know about these, so that you are familiar with them when you receive exception messages by others' code.\n",
    "\n",
    "#### Commonly Used Exceptions\n",
    "\n",
    "<img src=\"http://drive.google.com/uc?export=view&id=1tAonGpNy8IXWxgm4iFipVhGijsAwZt6t\">\n",
    "\n",
    "<a href=\"https://www.datacamp.com/community/tutorials/exception-handling-python\" target=\"_blank\">Data Camp</a>"
   ]
  },
  {
   "cell_type": "code",
   "execution_count": 24,
   "metadata": {
    "slideshow": {
     "slide_type": "slide"
    }
   },
   "outputs": [
    {
     "name": "stdout",
     "output_type": "stream",
     "text": [
      "Directory already exists!\n"
     ]
    }
   ],
   "source": [
    "# Same try and except with exception FileExistsError\n",
    "directory = \"test\"\n",
    "\n",
    "try:\n",
    "    os.makedirs(directory)\n",
    "except FileExistsError:\n",
    "    print(\"Directory already exists!\")\n",
    "    \n",
    "    # Uncomment line below to simply have except do nothing if no print\n",
    "    #pass  "
   ]
  },
  {
   "cell_type": "code",
   "execution_count": 25,
   "metadata": {
    "slideshow": {
     "slide_type": "slide"
    }
   },
   "outputs": [],
   "source": [
    "# You could also explore error handling in your function definitions\n",
    "# Example of ValueError\n",
    "def norm_diff(b1, b2):\n",
    "    \"\"\"Calculate the normalized difference of two arrays of same shape.\n",
    "    Math will be calculated (b1-b2) / (b1+b2). \n",
    "    \n",
    "    Parameters\n",
    "    ----------\n",
    "    b1, b2 : numpy arrays\n",
    "        Two numpy arrays of same shape.\n",
    "    \n",
    "    Returns\n",
    "    ----------\n",
    "    n_diff : numpy array\n",
    "        The element-wise result of (b1-b2) / (b1+b2) calculation. \n",
    "    \"\"\"\n",
    "    if not (b1.shape == b2.shape):\n",
    "        raise ValueError(\"Inputs arrays should have the same dimensions\")\n",
    "        \n",
    "    n_diff = (b1 - b2) / (b1 + b2)\n",
    "        \n",
    "    return n_diff"
   ]
  },
  {
   "cell_type": "code",
   "execution_count": 26,
   "metadata": {
    "slideshow": {
     "slide_type": "fragment"
    }
   },
   "outputs": [
    {
     "ename": "ValueError",
     "evalue": "Inputs arrays should have the same dimensions",
     "output_type": "error",
     "traceback": [
      "\u001b[0;31m---------------------------------------------------------------------------\u001b[0m",
      "\u001b[0;31mValueError\u001b[0m                                Traceback (most recent call last)",
      "\u001b[0;32m<ipython-input-26-48f5736f07fb>\u001b[0m in \u001b[0;36m<module>\u001b[0;34m()\u001b[0m\n\u001b[0;32m----> 1\u001b[0;31m \u001b[0mndvi\u001b[0m \u001b[0;34m=\u001b[0m \u001b[0mnorm_diff\u001b[0m\u001b[0;34m(\u001b[0m\u001b[0mb1\u001b[0m\u001b[0;34m=\u001b[0m\u001b[0mnir_band_3d\u001b[0m\u001b[0;34m,\u001b[0m \u001b[0mb2\u001b[0m\u001b[0;34m=\u001b[0m\u001b[0mred_band\u001b[0m\u001b[0;34m)\u001b[0m\u001b[0;34m\u001b[0m\u001b[0m\n\u001b[0m",
      "\u001b[0;32m<ipython-input-25-018feb34e9f1>\u001b[0m in \u001b[0;36mnorm_diff\u001b[0;34m(b1, b2)\u001b[0m\n\u001b[1;32m     16\u001b[0m     \"\"\"\n\u001b[1;32m     17\u001b[0m     \u001b[0;32mif\u001b[0m \u001b[0;32mnot\u001b[0m \u001b[0;34m(\u001b[0m\u001b[0mb1\u001b[0m\u001b[0;34m.\u001b[0m\u001b[0mshape\u001b[0m \u001b[0;34m==\u001b[0m \u001b[0mb2\u001b[0m\u001b[0;34m.\u001b[0m\u001b[0mshape\u001b[0m\u001b[0;34m)\u001b[0m\u001b[0;34m:\u001b[0m\u001b[0;34m\u001b[0m\u001b[0m\n\u001b[0;32m---> 18\u001b[0;31m         \u001b[0;32mraise\u001b[0m \u001b[0mValueError\u001b[0m\u001b[0;34m(\u001b[0m\u001b[0;34m\"Inputs arrays should have the same dimensions\"\u001b[0m\u001b[0;34m)\u001b[0m\u001b[0;34m\u001b[0m\u001b[0m\n\u001b[0m\u001b[1;32m     19\u001b[0m \u001b[0;34m\u001b[0m\u001b[0m\n\u001b[1;32m     20\u001b[0m     \u001b[0mn_diff\u001b[0m \u001b[0;34m=\u001b[0m \u001b[0;34m(\u001b[0m\u001b[0mb1\u001b[0m \u001b[0;34m-\u001b[0m \u001b[0mb2\u001b[0m\u001b[0;34m)\u001b[0m \u001b[0;34m/\u001b[0m \u001b[0;34m(\u001b[0m\u001b[0mb1\u001b[0m \u001b[0;34m+\u001b[0m \u001b[0mb2\u001b[0m\u001b[0;34m)\u001b[0m\u001b[0;34m\u001b[0m\u001b[0m\n",
      "\u001b[0;31mValueError\u001b[0m: Inputs arrays should have the same dimensions"
     ]
    }
   ],
   "source": [
    "ndvi = norm_diff(b1=nir_band_3d, b2=red_band)"
   ]
  },
  {
   "cell_type": "markdown",
   "metadata": {
    "slideshow": {
     "slide_type": "slide"
    }
   },
   "source": [
    "### Old Fashioned Trial and Error\n",
    "\n",
    "Maybe the code is executing just fine, but maybe you are not getting the output in the most optimal format. It may not be clear to you until you run the function many times with different inputs."
   ]
  },
  {
   "cell_type": "code",
   "execution_count": 27,
   "metadata": {
    "slideshow": {
     "slide_type": "fragment"
    }
   },
   "outputs": [],
   "source": [
    "# Create numpy array inputs for function\n",
    "# Note that we are creating a zero in the numerator with -15\n",
    "nir_band = np.array([[6, 7, 8, 9, 10], [16, 17, 18, 19, -15]])\n",
    "red_band = np.array([[1, 2, 3, 4, 5], [11, 12, 13, 14, 15]])"
   ]
  },
  {
   "cell_type": "code",
   "execution_count": 29,
   "metadata": {
    "slideshow": {
     "slide_type": "fragment"
    }
   },
   "outputs": [
    {
     "name": "stdout",
     "output_type": "stream",
     "text": [
      "[[ 0.71428571  0.55555556  0.45454545  0.38461538  0.33333333]\n",
      " [ 0.18518519  0.17241379  0.16129032  0.15151515        -inf]]\n"
     ]
    },
    {
     "name": "stderr",
     "output_type": "stream",
     "text": [
      "/Users/shannonwhite/git/volcano-risk-analysis/notebooks/calcsample.py:17: RuntimeWarning: divide by zero encountered in true_divide\n",
      "  n_diff = (b1 - b2) / (b1 + b2)\n"
     ]
    }
   ],
   "source": [
    "# Produces infinity values due to divide by zero\n",
    "ndvi = calcsample.norm_diff(b1=nir_band, b2=red_band)\n",
    "print(ndvi)"
   ]
  },
  {
   "cell_type": "markdown",
   "metadata": {
    "slideshow": {
     "slide_type": "fragment"
    }
   },
   "source": [
    "What if we would rather have the output be a masked numpy array if there are any infinite values or nan values?"
   ]
  },
  {
   "cell_type": "code",
   "execution_count": 30,
   "metadata": {
    "slideshow": {
     "slide_type": "slide"
    }
   },
   "outputs": [],
   "source": [
    "# From earthpy package\n",
    "import warnings\n",
    "\n",
    "def normalized_diff(b1, b2):\n",
    "    \"\"\"Take two numpy arrays and calculate the normalized difference.\n",
    "    Math will be calculated (b1-b2) / (b1+b2). The arrays must be of the\n",
    "    same shape.\n",
    "    Parameters\n",
    "    ----------\n",
    "    b1, b2 : numpy arrays\n",
    "        Two numpy arrays that will be used to calculate the normalized difference.\n",
    "        Math will be calculated (b1-b2) / (b1+b2).\n",
    "    Returns\n",
    "    ----------\n",
    "    n_diff : numpy array\n",
    "        The element-wise result of (b1-b2) / (b1+b2) calculation. Inf values are set\n",
    "        to nan. Array returned as masked if result includes nan values.\n",
    "    \"\"\"\n",
    "    if not (b1.shape == b2.shape):\n",
    "        raise ValueError(\"Both arrays should have the same dimensions\")\n",
    "\n",
    "    n_diff = (b1 - b2) / (b1 + b2)\n",
    "\n",
    "    # Set inf values to nan and provide custom warning\n",
    "    if np.isinf(n_diff).any():\n",
    "        warnings.warn(\n",
    "            \"Divide by zero produced infinity values that will be replaced with nan values\",\n",
    "            Warning)\n",
    "        n_diff[np.isinf(n_diff)] = np.nan\n",
    "\n",
    "    # Mask invalid values\n",
    "    if np.isnan(n_diff).any():\n",
    "        n_diff = np.ma.masked_invalid(n_diff)\n",
    "\n",
    "    return n_diff"
   ]
  },
  {
   "cell_type": "code",
   "execution_count": 31,
   "metadata": {
    "slideshow": {
     "slide_type": "fragment"
    }
   },
   "outputs": [
    {
     "name": "stdout",
     "output_type": "stream",
     "text": [
      "[[0.7142857142857143 0.5555555555555556 0.45454545454545453\n",
      "  0.38461538461538464 0.3333333333333333]\n",
      " [0.18518518518518517 0.1724137931034483 0.16129032258064516\n",
      "  0.15151515151515152 --]]\n"
     ]
    },
    {
     "name": "stderr",
     "output_type": "stream",
     "text": [
      "/Users/shannonwhite/anaconda3/envs/earth-analytics-python/lib/python3.6/site-packages/ipykernel/__main__.py:22: RuntimeWarning: divide by zero encountered in true_divide\n",
      "/Users/shannonwhite/anaconda3/envs/earth-analytics-python/lib/python3.6/site-packages/ipykernel/__main__.py:28: Warning: Divide by zero produced infinity values that will be replaced with nan values\n"
     ]
    }
   ],
   "source": [
    "ndvi = normalized_diff(b1=nir_band, b2=red_band)\n",
    "print(ndvi)"
   ]
  },
  {
   "cell_type": "markdown",
   "metadata": {
    "slideshow": {
     "slide_type": "slide"
    }
   },
   "source": [
    "Last, checking your code is not only about identifying potential issues and problems. Sometimes you find that your code is applicable to more situations that you originally thought.\n",
    "\n",
    "Recall the `add_five()` we previously defined. According to the docstring, what are the appropriate inputs?\n",
    "\n",
    "``` python \n",
    "def add_five(x):\n",
    "    \"\"\"Adds the numeric value 5 to input data\n",
    "    \n",
    "    Parameters\n",
    "    ----------\n",
    "    x : numeric value (e.g. integer, float)\n",
    "            \n",
    "    Returns\n",
    "    ----------\n",
    "    input data with values increased by 5\n",
    "    \"\"\"\n",
    "    \n",
    "    return (x + 5)\n",
    "```    "
   ]
  },
  {
   "cell_type": "code",
   "execution_count": 32,
   "metadata": {
    "slideshow": {
     "slide_type": "fragment"
    }
   },
   "outputs": [
    {
     "name": "stdout",
     "output_type": "stream",
     "text": [
      "[[  6   7   8   9  10]\n",
      " [ 16  17  18  19 -15]]\n",
      "[[ 11  12  13  14  15]\n",
      " [ 21  22  23  24 -10]]\n"
     ]
    }
   ],
   "source": [
    "# Works on numpy arrays as well!\n",
    "print(nir_band)\n",
    "nir_band_plus = add_five(nir_band)\n",
    "\n",
    "print(nir_band_plus)"
   ]
  },
  {
   "cell_type": "code",
   "execution_count": 33,
   "metadata": {
    "slideshow": {
     "slide_type": "slide"
    }
   },
   "outputs": [],
   "source": [
    "# Update docstring to include numpy arrays\n",
    "def add_five(x):\n",
    "    \"\"\"Adds the numeric value 5 to input data\n",
    "    \n",
    "    Parameters\n",
    "    ----------\n",
    "    x : numeric value (e.g. integer, float); numpy array\n",
    "            \n",
    "    Returns\n",
    "    ----------\n",
    "    input data type with values increased by 5\n",
    "    \"\"\"\n",
    "    \n",
    "    return (x + 5)"
   ]
  },
  {
   "cell_type": "markdown",
   "metadata": {
    "slideshow": {
     "slide_type": "slide"
    }
   },
   "source": [
    "## Additional Resources\n",
    "\n",
    "#### Writing Custom Modules\n",
    "* https://www.digitalocean.com/community/tutorials/how-to-write-modules-in-python-3\n",
    "* https://www.youtube.com/watch?v=CqvZ3vGoGs0\n",
    "* https://www.python-course.eu/python3_modules_and_modular_programming.php\n",
    "    \n",
    "#### Review of Functions and Modularization\n",
    "* https://www.oreilly.com/library/view/head-first-python/9781491919521/ch04.html\n",
    "\n",
    "#### Try and Except\n",
    "https://www.w3schools.com/python/python_try_except.asp \n",
    "https://www.youtube.com/watch?v=NIWwJbo-9_8\n",
    "\n",
    "#### Exception Handling\n",
    "https://www.datacamp.com/community/tutorials/exception-handling-python\n",
    "https://www.python-course.eu/python3_exception_handling.php\n",
    "https://www.geeksforgeeks.org/built-exceptions-python/\n",
    "\n",
    "#### Jupyter Notebook Cell Magic for Scripts\n",
    "* https://stackoverflow.com/questions/21034373/how-to-load-edit-run-save-text-files-py-into-an-ipython-notebook-cell\n",
    "* https://nbviewer.jupyter.org/github/ipython/ipython/blob/1.x/examples/notebooks/Cell%20Magics.ipynb\n",
    "\n",
    "#### Programming for reusability\n",
    "* https://intermediate-and-advanced-software-carpentry.readthedocs.io/en/latest/structuring-python.html\n",
    "\n",
    "#### Creating Python Applications and Packages\n",
    "* https://realpython.com/python-modules-packages/\n",
    "* https://realpython.com/python-application-layouts/\n",
    "* https://medium.com/small-things-about-python/lets-talk-about-python-packaging-6d84b81f1bb5\n",
    "\n",
    "#### Python Programming Styles\n",
    "* https://blog.newrelic.com/engineering/python-programming-styles/"
   ]
  },
  {
   "cell_type": "markdown",
   "metadata": {
    "slideshow": {
     "slide_type": "slide"
    }
   },
   "source": [
    "## Assignment for March 8th, 2019 by noon\n",
    "\n",
    "This submission consists of updating your GitHub repository with a focus on the code files. \n",
    "\n",
    "To update your GitHub repository, you need to add at least one script/notebook in the appropriate directory (e.g. scripts, notebooks). This script/notebook needs to contain:\n",
    "* at least one custom function (e.g. a function you have defined for your workflow; not imported from an installed package/library; can be a combination of imported functions)\n",
    "* appropriate documentation for the function (e.g. Python docstring, comments) to indicate purpose, inputs, and outputs\n",
    "* some documentation at the top of the script/notebook (e.g. Python docstring, comments, Markdown) that explains the purpose of the script/notebook \n",
    "* documentation throughout the code (e.g. comments, Markdown) to walk users through the code\n",
    "\n",
    "More details available on CANVAS."
   ]
  },
  {
   "cell_type": "code",
   "execution_count": 34,
   "metadata": {},
   "outputs": [],
   "source": [
    "import vegetation\n"
   ]
  },
  {
   "cell_type": "code",
   "execution_count": null,
   "metadata": {},
   "outputs": [],
   "source": []
  }
 ],
 "metadata": {
  "celltoolbar": "Slideshow",
  "kernelspec": {
   "display_name": "Python [default]",
   "language": "python",
   "name": "python3"
  },
  "language_info": {
   "codemirror_mode": {
    "name": "ipython",
    "version": 3
   },
   "file_extension": ".py",
   "mimetype": "text/x-python",
   "name": "python",
   "nbconvert_exporter": "python",
   "pygments_lexer": "ipython3",
   "version": "3.6.6"
  }
 },
 "nbformat": 4,
 "nbformat_minor": 2
}
